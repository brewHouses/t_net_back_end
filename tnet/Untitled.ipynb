{
 "cells": [
  {
   "cell_type": "code",
   "execution_count": 1,
   "metadata": {},
   "outputs": [
    {
     "name": "stdout",
     "output_type": "stream",
     "text": [
      "(852, 1136)\n",
      "(852, 1136, 3)\n"
     ]
    }
   ],
   "source": [
    "import cv2\n",
    "import numpy as np\n",
    "import matplotlib.pyplot as plt\n",
    "\n",
    "img = cv2.imread(\"../../expand_data/common_4AP.avi.ogv_0_0.jpg\")\n",
    "img = cv2.cvtColor(img, cv2.COLOR_BGR2RGB)\n",
    "grayImage = cv2.cvtColor(img, cv2.COLOR_BGR2GRAY)\n",
    "# Roberts算子\n",
    "kernelx = np.array([[-1, 0], [0, 1]], dtype=int)\n",
    "kernely = np.array([[0, -1], [1, 0]], dtype=int)\n",
    "x = cv2.filter2D(grayImage, cv2.CV_16S, kernelx)\n",
    "y = cv2.filter2D(grayImage, cv2.CV_16S, kernely)\n",
    "# 转转成uint8\n",
    "absX = cv2.convertScaleAbs(x)\n",
    "absY = cv2.convertScaleAbs(y)\n",
    "Roberts = cv2.addWeighted(absX, 0.5, absY, 0.5, 0)\n",
    "# 显示图形\n",
    "cv2.imwrite(\"raw.png\", img)\n",
    "cv2.imwrite(\"Roberts.png\", Roberts)\n",
    "print(Roberts.shape)\n",
    "print(img.shape)"
   ]
  },
  {
   "cell_type": "code",
   "execution_count": 10,
   "metadata": {},
   "outputs": [
    {
     "data": {
      "text/plain": [
       "True"
      ]
     },
     "execution_count": 10,
     "metadata": {},
     "output_type": "execute_result"
    }
   ],
   "source": [
    "import cv2\n",
    "import numpy as np\n",
    "import matplotlib.pyplot as plt\n",
    "\n",
    "img = cv2.imread(\"../../expand_data/common_4AP.avi.ogv_0_0.jpg\")\n",
    "img = cv2.cvtColor(img, cv2.COLOR_BGR2RGB)\n",
    "grayImage = cv2.cvtColor(img, cv2.COLOR_BGR2GRAY)\n",
    "# Prewitt算子\n",
    "kernelx = np.array([[1, 1, 1], [0, 0, 0], [-1, -1, -1]], dtype=int)\n",
    "kernely = np.array([[-1, 0, 1], [-1, 0, 1], [-1, 0, 1]], dtype=int)\n",
    "x = cv2.filter2D(grayImage, cv2.CV_16S, kernelx)\n",
    "y = cv2.filter2D(grayImage, cv2.CV_16S, kernely)\n",
    "# 转转成uint8\n",
    "absX = cv2.convertScaleAbs(x)\n",
    "absY = cv2.convertScaleAbs(y)\n",
    "Prewitt = cv2.addWeighted(absX, 0.5, absY, 0.5, 0)\n",
    "# 显示图形\n",
    "cv2.imwrite(\"raw.png\", img)\n",
    "cv2.imwrite(\"Prewitt.png\", Prewitt)"
   ]
  },
  {
   "cell_type": "code",
   "execution_count": 12,
   "metadata": {},
   "outputs": [
    {
     "data": {
      "text/plain": [
       "True"
      ]
     },
     "execution_count": 12,
     "metadata": {},
     "output_type": "execute_result"
    }
   ],
   "source": [
    "import cv2\n",
    "import numpy as np\n",
    "import matplotlib.pyplot as plt\n",
    "\n",
    "img = cv2.imread(\"../../expand_data/common_4AP.avi.ogv_0_0.jpg\")\n",
    "img = cv2.cvtColor(img, cv2.COLOR_BGR2RGB)\n",
    "grayImage = cv2.cvtColor(img, cv2.COLOR_BGR2GRAY)\n",
    "# Prewitt算子\n",
    "# kernelx = np.array([[1, 1, 1], [0, 0, 0], [-1, -1, -1]], dtype=int)\n",
    "# kernely = np.array([[-1, 0, 1], [-1, 0, 1], [-1, 0, 1]], dtype=int)\n",
    "# x = cv2.filter2D(grayImage, cv2.CV_16S, kernelx)\n",
    "# y = cv2.filter2D(grayImage, cv2.CV_16S, kernely)\n",
    "x = cv2.Sobel(grayImage, cv2.CV_16S, 1, 0)\n",
    "y = cv2.Sobel(grayImage, cv2.CV_16S, 0, 1)\n",
    "# 转成uint8\n",
    "absX = cv2.convertScaleAbs(x)\n",
    "absY = cv2.convertScaleAbs(y)\n",
    "Sobel = cv2.addWeighted(absX, 0.5, absY, 0.5, 0)\n",
    "# 显示图形\n",
    "cv2.imwrite(\"raw.png\", img)\n",
    "cv2.imwrite(\"Sobel.png\", Sobel)"
   ]
  },
  {
   "cell_type": "code",
   "execution_count": 13,
   "metadata": {},
   "outputs": [
    {
     "data": {
      "text/plain": [
       "True"
      ]
     },
     "execution_count": 13,
     "metadata": {},
     "output_type": "execute_result"
    }
   ],
   "source": [
    "import cv2\n",
    "import numpy as np\n",
    "import matplotlib.pyplot as plt\n",
    "\n",
    "img = cv2.imread(\"../../expand_data/common_4AP.avi.ogv_0_0.jpg\")\n",
    "img = cv2.cvtColor(img, cv2.COLOR_BGR2RGB)\n",
    "grayImage = cv2.cvtColor(img, cv2.COLOR_BGR2GRAY)\n",
    "# Roberts算子\n",
    "# kernelx = np.array([[1, 1, 1], [0, 0, 0], [-1, -1, -1]], dtype=int)\n",
    "# kernely = np.array([[-1, 0, 1], [-1, 0, 1], [-1, 0, 1]], dtype=int)\n",
    "# x = cv2.filter2D(grayImage, cv2.CV_16S, kernelx)\n",
    "# y = cv2.filter2D(grayImage, cv2.CV_16S, kernely)\n",
    "# x = cv2.Sobel(grayImage, cv2.CV_16S, 1, 0)\n",
    "# y = cv2.Sobel(grayImage, cv2.CV_16S, 0, 1)\n",
    "# # 转转成uint8\n",
    "# absX = cv2.convertScaleAbs(x)\n",
    "# absY = cv2.convertScaleAbs(y)\n",
    "dst = cv2.Laplacian(grayImage, cv2.CV_16S, ksize=3)\n",
    "dst = cv2.convertScaleAbs(dst)\n",
    "\n",
    "# 显示图形\n",
    "cv2.imwrite(\"raw.png\", img)\n",
    "cv2.imwrite(\"Laplacian.png\", dst)"
   ]
  },
  {
   "cell_type": "code",
   "execution_count": null,
   "metadata": {},
   "outputs": [],
   "source": [
    "https://www.cnblogs.com/zhouzetian/p/13324627.html"
   ]
  }
 ],
 "metadata": {
  "kernelspec": {
   "display_name": "Python 3",
   "language": "python",
   "name": "python3"
  },
  "language_info": {
   "codemirror_mode": {
    "name": "ipython",
    "version": 3
   },
   "file_extension": ".py",
   "mimetype": "text/x-python",
   "name": "python",
   "nbconvert_exporter": "python",
   "pygments_lexer": "ipython3",
   "version": "3.6.8"
  }
 },
 "nbformat": 4,
 "nbformat_minor": 2
}
